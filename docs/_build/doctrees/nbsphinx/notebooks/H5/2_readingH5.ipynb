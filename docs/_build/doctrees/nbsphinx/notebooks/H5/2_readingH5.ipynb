{
 "cells": [
  {
   "cell_type": "markdown",
   "metadata": {},
   "source": [
    "# Reading HDF5 files\n",
    "## 1. Introduction\n",
    "\n",
    "Here we show the basic ``h5py`` syntax for how to:\n",
    "    \n",
    "1 - Load the ``HDF5`` file.\n",
    "\n",
    "2 - Inspect the data.\n",
    "\n",
    "3 - Close the ``HDF5`` file."
   ]
  },
  {
   "cell_type": "markdown",
   "metadata": {},
   "source": [
    "### 1.1 Paths"
   ]
  },
  {
   "cell_type": "code",
   "execution_count": 1,
   "metadata": {
    "execution": {
     "iopub.execute_input": "2021-09-23T10:15:14.259731Z",
     "iopub.status.busy": "2021-09-23T10:15:14.259327Z",
     "iopub.status.idle": "2021-09-23T10:15:14.262564Z",
     "shell.execute_reply": "2021-09-23T10:15:14.262179Z"
    }
   },
   "outputs": [],
   "source": [
    "pathToH5 = '../COMPAS_Output.h5' # Set this to the appropriate path for you"
   ]
  },
  {
   "cell_type": "markdown",
   "metadata": {},
   "source": [
    "### 1.2 Imports"
   ]
  },
  {
   "cell_type": "code",
   "execution_count": 2,
   "metadata": {
    "execution": {
     "iopub.execute_input": "2021-09-23T10:15:14.265246Z",
     "iopub.status.busy": "2021-09-23T10:15:14.264931Z",
     "iopub.status.idle": "2021-09-23T10:15:14.347961Z",
     "shell.execute_reply": "2021-09-23T10:15:14.348221Z"
    }
   },
   "outputs": [],
   "source": [
    "import h5py as h5  #for handling data format"
   ]
  },
  {
   "cell_type": "markdown",
   "metadata": {},
   "source": [
    "## 2. Load the HDF5 file"
   ]
  },
  {
   "cell_type": "code",
   "execution_count": 3,
   "metadata": {
    "execution": {
     "iopub.execute_input": "2021-09-23T10:15:14.351819Z",
     "iopub.status.busy": "2021-09-23T10:15:14.351508Z",
     "iopub.status.idle": "2021-09-23T10:15:14.352788Z",
     "shell.execute_reply": "2021-09-23T10:15:14.353040Z"
    },
    "scrolled": true
   },
   "outputs": [],
   "source": [
    "Data  = h5.File(pathToH5)"
   ]
  },
  {
   "cell_type": "markdown",
   "metadata": {},
   "source": [
    "## 3. Inspect the data"
   ]
  },
  {
   "cell_type": "markdown",
   "metadata": {},
   "source": [
    "### 3.1 To show which files you have"
   ]
  },
  {
   "cell_type": "code",
   "execution_count": 4,
   "metadata": {
    "execution": {
     "iopub.execute_input": "2021-09-23T10:15:14.355576Z",
     "iopub.status.busy": "2021-09-23T10:15:14.355260Z",
     "iopub.status.idle": "2021-09-23T10:15:14.357371Z",
     "shell.execute_reply": "2021-09-23T10:15:14.357618Z"
    }
   },
   "outputs": [
    {
     "name": "stdout",
     "output_type": "stream",
     "text": [
      "['BSE_Common_Envelopes', 'BSE_Double_Compact_Objects', 'BSE_RLOF', 'BSE_Supernovae', 'BSE_System_Parameters', 'Run_Details']\n"
     ]
    }
   ],
   "source": [
    "print(list(Data.keys()))"
   ]
  },
  {
   "cell_type": "markdown",
   "metadata": {},
   "source": [
    "### 3.2 To show all the parameters in a given file"
   ]
  },
  {
   "cell_type": "code",
   "execution_count": 5,
   "metadata": {
    "execution": {
     "iopub.execute_input": "2021-09-23T10:15:14.360102Z",
     "iopub.status.busy": "2021-09-23T10:15:14.359772Z",
     "iopub.status.idle": "2021-09-23T10:15:14.361633Z",
     "shell.execute_reply": "2021-09-23T10:15:14.361341Z"
    }
   },
   "outputs": [
    {
     "name": "stdout",
     "output_type": "stream",
     "text": [
      "['CE_Alpha', 'Eccentricity@ZAMS', 'Equilibrated_At_Birth', 'Error', 'LBV_Factor', 'Mass@ZAMS(1)', 'Mass@ZAMS(2)', 'Merger', 'Merger_At_Birth', 'Metallicity@ZAMS(1)', 'Metallicity@ZAMS(2)', 'Omega@ZAMS(1)', 'Omega@ZAMS(2)', 'SEED', 'SN_Kick_Magnitude_Random_Number(1)', 'SN_Kick_Magnitude_Random_Number(2)', 'SN_Kick_Mean_Anomaly(1)', 'SN_Kick_Mean_Anomaly(2)', 'SN_Kick_Phi(1)', 'SN_Kick_Phi(2)', 'SN_Kick_Theta(1)', 'SN_Kick_Theta(2)', 'SemiMajorAxis@ZAMS', 'Sigma_Kick_CCSN_BH', 'Sigma_Kick_CCSN_NS', 'Sigma_Kick_ECSN', 'Sigma_Kick_USSN', 'Stellar_Type(1)', 'Stellar_Type(2)', 'Stellar_Type@ZAMS(1)', 'Stellar_Type@ZAMS(2)', 'Unbound', 'WR_Factor']\n"
     ]
    }
   ],
   "source": [
    "# It is a pain to write the entire group each time so we define\n",
    "Systems = Data['BSE_System_Parameters']\n",
    "print(list(Systems.keys()))"
   ]
  },
  {
   "cell_type": "markdown",
   "metadata": {},
   "source": [
    "### 3.3 To find the unit of a parameter"
   ]
  },
  {
   "cell_type": "code",
   "execution_count": 6,
   "metadata": {
    "execution": {
     "iopub.execute_input": "2021-09-23T10:15:14.364235Z",
     "iopub.status.busy": "2021-09-23T10:15:14.363923Z",
     "iopub.status.idle": "2021-09-23T10:15:14.365707Z",
     "shell.execute_reply": "2021-09-23T10:15:14.365957Z"
    }
   },
   "outputs": [
    {
     "name": "stdout",
     "output_type": "stream",
     "text": [
      "b'Msol'\n"
     ]
    }
   ],
   "source": [
    "print(Systems['Mass@ZAMS(1)'].attrs['units']) # attrs refers to attributes"
   ]
  },
  {
   "cell_type": "markdown",
   "metadata": {},
   "source": [
    "### 3.4 To access the values of a column"
   ]
  },
  {
   "cell_type": "code",
   "execution_count": 7,
   "metadata": {
    "execution": {
     "iopub.execute_input": "2021-09-23T10:15:14.368826Z",
     "iopub.status.busy": "2021-09-23T10:15:14.368490Z",
     "iopub.status.idle": "2021-09-23T10:15:14.371148Z",
     "shell.execute_reply": "2021-09-23T10:15:14.371398Z"
    },
    "scrolled": false
   },
   "outputs": [
    {
     "name": "stdout",
     "output_type": "stream",
     "text": [
      "(50000,)\n",
      "[ 8.4556339   5.62655475 27.50002414 ...  5.51719552  6.11700541\n",
      "  7.29572022]\n"
     ]
    }
   ],
   "source": [
    "#Giving me the actual array\n",
    "MZAMS1 = Systems['Mass@ZAMS(1)'][()]\n",
    "print(MZAMS1.shape)                   # number of systems in this file\n",
    "print(MZAMS1)                         # the values of each system"
   ]
  },
  {
   "cell_type": "markdown",
   "metadata": {},
   "source": [
    "## 4. Closing the file\n",
    "\n",
    "Accessing a single ``HDF5`` from multiple scripts is not always possible. With notebooks, sometimes closing the notebook is not enough to have it close the ``HDF5`` file. Therefore we recommend to close the ``HDF5`` file explicitly after the calculations are done.\n"
   ]
  },
  {
   "cell_type": "code",
   "execution_count": 8,
   "metadata": {
    "execution": {
     "iopub.execute_input": "2021-09-23T10:15:14.373587Z",
     "iopub.status.busy": "2021-09-23T10:15:14.373272Z",
     "iopub.status.idle": "2021-09-23T10:15:14.375106Z",
     "shell.execute_reply": "2021-09-23T10:15:14.374839Z"
    }
   },
   "outputs": [],
   "source": [
    "Data.close()"
   ]
  }
 ],
 "metadata": {
  "kernelspec": {
   "display_name": "Python 3 (ipykernel)",
   "language": "python",
   "name": "python3"
  },
  "language_info": {
   "codemirror_mode": {
    "name": "ipython",
    "version": 3
   },
   "file_extension": ".py",
   "mimetype": "text/x-python",
   "name": "python",
   "nbconvert_exporter": "python",
   "pygments_lexer": "ipython3",
   "version": "3.9.5"
  }
 },
 "nbformat": 4,
 "nbformat_minor": 2
}
